{
 "cells": [
  {
   "cell_type": "code",
   "execution_count": 3,
   "id": "d1cbc251",
   "metadata": {},
   "outputs": [],
   "source": [
    "import easyocr\n",
    "import regex as re"
   ]
  },
  {
   "cell_type": "code",
   "execution_count": 2,
   "id": "f6e1683f",
   "metadata": {},
   "outputs": [
    {
     "name": "stdout",
     "output_type": "stream",
     "text": [
      "Collecting regex\n",
      "  Downloading regex-2023.6.3-cp310-cp310-win_amd64.whl (268 kB)\n",
      "                                              0.0/268.0 kB ? eta -:--:--\n",
      "     ----                                     30.7/268.0 kB ? eta -:--:--\n",
      "     --------                              61.4/268.0 kB 825.8 kB/s eta 0:00:01\n",
      "     ---------------                      112.6/268.0 kB 819.2 kB/s eta 0:00:01\n",
      "     ----------------------               163.8/268.0 kB 893.0 kB/s eta 0:00:01\n",
      "     ----------------------               163.8/268.0 kB 893.0 kB/s eta 0:00:01\n",
      "     ---------------------------------    245.8/268.0 kB 888.8 kB/s eta 0:00:01\n",
      "     -----------------------------------  266.2/268.0 kB 911.0 kB/s eta 0:00:01\n",
      "     ------------------------------------ 268.0/268.0 kB 786.0 kB/s eta 0:00:00\n",
      "Installing collected packages: regex\n",
      "Successfully installed regex-2023.6.3\n",
      "Note: you may need to restart the kernel to use updated packages.\n"
     ]
    },
    {
     "name": "stderr",
     "output_type": "stream",
     "text": [
      "\n",
      "[notice] A new release of pip is available: 23.1.2 -> 23.2.1\n",
      "[notice] To update, run: C:\\Users\\yogamariappan\\AppData\\Local\\Microsoft\\WindowsApps\\PythonSoftwareFoundation.Python.3.10_qbz5n2kfra8p0\\python.exe -m pip install --upgrade pip\n"
     ]
    }
   ],
   "source": [
    "pip install regex"
   ]
  },
  {
   "cell_type": "code",
   "execution_count": 8,
   "id": "867e7d15",
   "metadata": {},
   "outputs": [
    {
     "name": "stdout",
     "output_type": "stream",
     "text": [
      "Note: you may need to restart the kernel to use updated packages.\n",
      "Requirement already satisfied: easyocr in c:\\users\\yogamariappan\\appdata\\local\\packages\\pythonsoftwarefoundation.python.3.10_qbz5n2kfra8p0\\localcache\\local-packages\\python310\\site-packages (1.7.0)\n",
      "Requirement already satisfied: torch in c:\\users\\yogamariappan\\appdata\\local\\packages\\pythonsoftwarefoundation.python.3.10_qbz5n2kfra8p0\\localcache\\local-packages\\python310\\site-packages (from easyocr) (2.0.1)\n",
      "Requirement already satisfied: torchvision>=0.5 in c:\\users\\yogamariappan\\appdata\\local\\packages\\pythonsoftwarefoundation.python.3.10_qbz5n2kfra8p0\\localcache\\local-packages\\python310\\site-packages (from easyocr) (0.15.2)\n",
      "Requirement already satisfied: opencv-python-headless in c:\\users\\yogamariappan\\appdata\\local\\packages\\pythonsoftwarefoundation.python.3.10_qbz5n2kfra8p0\\localcache\\local-packages\\python310\\site-packages (from easyocr) (4.8.0.74)\n",
      "Requirement already satisfied: scipy in c:\\users\\yogamariappan\\appdata\\local\\packages\\pythonsoftwarefoundation.python.3.10_qbz5n2kfra8p0\\localcache\\local-packages\\python310\\site-packages (from easyocr) (1.10.1)\n",
      "Requirement already satisfied: numpy in c:\\users\\yogamariappan\\appdata\\local\\packages\\pythonsoftwarefoundation.python.3.10_qbz5n2kfra8p0\\localcache\\local-packages\\python310\\site-packages (from easyocr) (1.24.2)\n",
      "Requirement already satisfied: Pillow in c:\\users\\yogamariappan\\appdata\\local\\packages\\pythonsoftwarefoundation.python.3.10_qbz5n2kfra8p0\\localcache\\local-packages\\python310\\site-packages (from easyocr) (9.5.0)\n",
      "Requirement already satisfied: scikit-image in c:\\users\\yogamariappan\\appdata\\local\\packages\\pythonsoftwarefoundation.python.3.10_qbz5n2kfra8p0\\localcache\\local-packages\\python310\\site-packages (from easyocr) (0.21.0)\n",
      "Requirement already satisfied: python-bidi in c:\\users\\yogamariappan\\appdata\\local\\packages\\pythonsoftwarefoundation.python.3.10_qbz5n2kfra8p0\\localcache\\local-packages\\python310\\site-packages (from easyocr) (0.4.2)\n",
      "Requirement already satisfied: PyYAML in c:\\users\\yogamariappan\\appdata\\local\\packages\\pythonsoftwarefoundation.python.3.10_qbz5n2kfra8p0\\localcache\\local-packages\\python310\\site-packages (from easyocr) (6.0)\n",
      "Requirement already satisfied: Shapely in c:\\users\\yogamariappan\\appdata\\local\\packages\\pythonsoftwarefoundation.python.3.10_qbz5n2kfra8p0\\localcache\\local-packages\\python310\\site-packages (from easyocr) (2.0.1)\n",
      "Requirement already satisfied: pyclipper in c:\\users\\yogamariappan\\appdata\\local\\packages\\pythonsoftwarefoundation.python.3.10_qbz5n2kfra8p0\\localcache\\local-packages\\python310\\site-packages (from easyocr) (1.3.0.post4)\n",
      "Requirement already satisfied: ninja in c:\\users\\yogamariappan\\appdata\\local\\packages\\pythonsoftwarefoundation.python.3.10_qbz5n2kfra8p0\\localcache\\local-packages\\python310\\site-packages (from easyocr) (1.11.1)\n",
      "Requirement already satisfied: requests in c:\\users\\yogamariappan\\appdata\\local\\packages\\pythonsoftwarefoundation.python.3.10_qbz5n2kfra8p0\\localcache\\local-packages\\python310\\site-packages (from torchvision>=0.5->easyocr) (2.28.2)\n",
      "Requirement already satisfied: filelock in c:\\users\\yogamariappan\\appdata\\local\\packages\\pythonsoftwarefoundation.python.3.10_qbz5n2kfra8p0\\localcache\\local-packages\\python310\\site-packages (from torch->easyocr) (3.12.2)\n",
      "Requirement already satisfied: typing-extensions in c:\\users\\yogamariappan\\appdata\\local\\packages\\pythonsoftwarefoundation.python.3.10_qbz5n2kfra8p0\\localcache\\local-packages\\python310\\site-packages (from torch->easyocr) (4.7.0)\n",
      "Requirement already satisfied: sympy in c:\\users\\yogamariappan\\appdata\\local\\packages\\pythonsoftwarefoundation.python.3.10_qbz5n2kfra8p0\\localcache\\local-packages\\python310\\site-packages (from torch->easyocr) (1.12)\n",
      "Requirement already satisfied: networkx in c:\\users\\yogamariappan\\appdata\\local\\packages\\pythonsoftwarefoundation.python.3.10_qbz5n2kfra8p0\\localcache\\local-packages\\python310\\site-packages (from torch->easyocr) (3.1)\n",
      "Requirement already satisfied: jinja2 in c:\\users\\yogamariappan\\appdata\\local\\packages\\pythonsoftwarefoundation.python.3.10_qbz5n2kfra8p0\\localcache\\local-packages\\python310\\site-packages (from torch->easyocr) (3.1.2)\n",
      "Requirement already satisfied: six in c:\\users\\yogamariappan\\appdata\\local\\packages\\pythonsoftwarefoundation.python.3.10_qbz5n2kfra8p0\\localcache\\local-packages\\python310\\site-packages (from python-bidi->easyocr) (1.16.0)\n",
      "Requirement already satisfied: imageio>=2.27 in c:\\users\\yogamariappan\\appdata\\local\\packages\\pythonsoftwarefoundation.python.3.10_qbz5n2kfra8p0\\localcache\\local-packages\\python310\\site-packages (from scikit-image->easyocr) (2.31.1)\n",
      "Requirement already satisfied: tifffile>=2022.8.12 in c:\\users\\yogamariappan\\appdata\\local\\packages\\pythonsoftwarefoundation.python.3.10_qbz5n2kfra8p0\\localcache\\local-packages\\python310\\site-packages (from scikit-image->easyocr) (2023.7.18)\n",
      "Requirement already satisfied: PyWavelets>=1.1.1 in c:\\users\\yogamariappan\\appdata\\local\\packages\\pythonsoftwarefoundation.python.3.10_qbz5n2kfra8p0\\localcache\\local-packages\\python310\\site-packages (from scikit-image->easyocr) (1.4.1)\n",
      "Requirement already satisfied: packaging>=21 in c:\\users\\yogamariappan\\appdata\\local\\packages\\pythonsoftwarefoundation.python.3.10_qbz5n2kfra8p0\\localcache\\local-packages\\python310\\site-packages (from scikit-image->easyocr) (23.0)\n",
      "Requirement already satisfied: lazy_loader>=0.2 in c:\\users\\yogamariappan\\appdata\\local\\packages\\pythonsoftwarefoundation.python.3.10_qbz5n2kfra8p0\\localcache\\local-packages\\python310\\site-packages (from scikit-image->easyocr) (0.3)\n",
      "Requirement already satisfied: MarkupSafe>=2.0 in c:\\users\\yogamariappan\\appdata\\local\\packages\\pythonsoftwarefoundation.python.3.10_qbz5n2kfra8p0\\localcache\\local-packages\\python310\\site-packages (from jinja2->torch->easyocr) (2.1.2)\n",
      "Requirement already satisfied: charset-normalizer<4,>=2 in c:\\users\\yogamariappan\\appdata\\local\\packages\\pythonsoftwarefoundation.python.3.10_qbz5n2kfra8p0\\localcache\\local-packages\\python310\\site-packages (from requests->torchvision>=0.5->easyocr) (3.0.1)\n",
      "Requirement already satisfied: idna<4,>=2.5 in c:\\users\\yogamariappan\\appdata\\local\\packages\\pythonsoftwarefoundation.python.3.10_qbz5n2kfra8p0\\localcache\\local-packages\\python310\\site-packages (from requests->torchvision>=0.5->easyocr) (3.4)\n",
      "Requirement already satisfied: urllib3<1.27,>=1.21.1 in c:\\users\\yogamariappan\\appdata\\local\\packages\\pythonsoftwarefoundation.python.3.10_qbz5n2kfra8p0\\localcache\\local-packages\\python310\\site-packages (from requests->torchvision>=0.5->easyocr) (1.26.14)\n",
      "Requirement already satisfied: certifi>=2017.4.17 in c:\\users\\yogamariappan\\appdata\\local\\packages\\pythonsoftwarefoundation.python.3.10_qbz5n2kfra8p0\\localcache\\local-packages\\python310\\site-packages (from requests->torchvision>=0.5->easyocr) (2022.12.7)\n",
      "Requirement already satisfied: mpmath>=0.19 in c:\\users\\yogamariappan\\appdata\\local\\packages\\pythonsoftwarefoundation.python.3.10_qbz5n2kfra8p0\\localcache\\local-packages\\python310\\site-packages (from sympy->torch->easyocr) (1.3.0)\n"
     ]
    },
    {
     "name": "stderr",
     "output_type": "stream",
     "text": [
      "\n",
      "[notice] A new release of pip is available: 23.1.2 -> 23.2.1\n",
      "[notice] To update, run: C:\\Users\\yogamariappan\\AppData\\Local\\Microsoft\\WindowsApps\\PythonSoftwareFoundation.Python.3.10_qbz5n2kfra8p0\\python.exe -m pip install --upgrade pip\n"
     ]
    }
   ],
   "source": [
    "pip install easyocr"
   ]
  },
  {
   "cell_type": "code",
   "execution_count": 4,
   "id": "6f551a9d",
   "metadata": {},
   "outputs": [
    {
     "name": "stderr",
     "output_type": "stream",
     "text": [
      "Neither CUDA nor MPS are available - defaulting to CPU. Note: This module is much faster with a GPU.\n",
      "Downloading recognition model, please wait. This may take several minutes depending upon your network connection.\n"
     ]
    },
    {
     "name": "stdout",
     "output_type": "stream",
     "text": [
      "Progress: |██████████████████████████████████████████████████| 100.0% Complete"
     ]
    }
   ],
   "source": [
    "reader = easyocr.Reader(['ch_sim','en'])"
   ]
  },
  {
   "cell_type": "code",
   "execution_count": 6,
   "id": "6b48ae1d",
   "metadata": {},
   "outputs": [
    {
     "name": "stdout",
     "output_type": "stream",
     "text": [
      "['Selva', 'DATA MANAGER', '+123-456-7890', '+123-456-7891', 'WWW.XYZI.com', 'hello@XYZI.com', '123 ABC St Chennai,', 'SelVa', 'TamilNadu 600113', 'digitals']\n"
     ]
    }
   ],
   "source": [
    "result1 = reader.readtext('1.png',detail=0)\n",
    "print(result1)"
   ]
  },
  {
   "cell_type": "code",
   "execution_count": 7,
   "id": "64c0ae66",
   "metadata": {},
   "outputs": [
    {
     "name": "stdout",
     "output_type": "stream",
     "text": [
      "['Amit Kumar', 'CEO & FOUNDER', '123-456-7569', 'hello@global.com', 'TTT', 'global.com', '123 global', 'Erode;', 'GLOBAL', 'TamilNadu 600115', 'INSURANCE', 'St;']\n"
     ]
    }
   ],
   "source": [
    "result2 = reader.readtext('2.png',detail=0)\n",
    "print(result2)"
   ]
  },
  {
   "cell_type": "code",
   "execution_count": 8,
   "id": "8f01e4ce",
   "metadata": {},
   "outputs": [
    {
     "name": "stdout",
     "output_type": "stream",
     "text": [
      "['KARTHICK', 'General Manager', '123 ABC St , Salem,', 'TamilNadu 6004513', '+123-456-7890', 'hello@Borcelle.com', 'WWW. Borcelle.com', 'BORCELCE', 'AIRLINES']\n"
     ]
    }
   ],
   "source": [
    "result3 = reader.readtext('3.png',detail=0)\n",
    "print(result3)"
   ]
  },
  {
   "cell_type": "code",
   "execution_count": 9,
   "id": "ac48a889",
   "metadata": {},
   "outputs": [
    {
     "name": "stdout",
     "output_type": "stream",
     "text": [
      "['REVANTH', 'Marketing Executive', '123 ABC St. HYDRABAD, TamilNadu,', '600001', '+91-456-1234', 'hello@CHRISTMAS.com', 'Family', 'WWW.CHRISTMAS.com', 'Restaurant']\n"
     ]
    }
   ],
   "source": [
    "result4 = reader.readtext('4.png',detail=0)\n",
    "print(result4)"
   ]
  },
  {
   "cell_type": "code",
   "execution_count": 10,
   "id": "0a8b61be",
   "metadata": {},
   "outputs": [
    {
     "name": "stdout",
     "output_type": "stream",
     "text": [
      "['SANTHOSH', 'Technical Manager', '123 ABC St, Tirupur, TamilNadu;', '641603', '+123-456-1234', 'hello@Sun.com', 'WWWSun.com', 'Sun Electricals']\n"
     ]
    }
   ],
   "source": [
    "result5 = reader.readtext('5.png',detail=0)\n",
    "print(result5)"
   ]
  },
  {
   "cell_type": "code",
   "execution_count": 14,
   "id": "12c3d98f",
   "metadata": {},
   "outputs": [],
   "source": [
    "def phno(img):\n",
    "  num = []\n",
    "  for i in img:\n",
    "    if re.findall(r'^[+]',i):\n",
    "      num.append(i)\n",
    "    elif(re.findall(r'^\\d{3}-\\d{3}-\\d{4}$',i)):\n",
    "      num.append(i)\n",
    "  return num"
   ]
  },
  {
   "cell_type": "code",
   "execution_count": 15,
   "id": "5e6a7f13",
   "metadata": {},
   "outputs": [],
   "source": [
    "def email(img):\n",
    "  for i in img:\n",
    "    if(re.findall(r'[\\w\\.-]+@[\\w\\.-]+',i)):\n",
    "      return i"
   ]
  },
  {
   "cell_type": "code",
   "execution_count": 16,
   "id": "438af3b5",
   "metadata": {},
   "outputs": [],
   "source": [
    "def website(img):\n",
    "  website = \"\"\n",
    "  for i in img:\n",
    "    if re.match(r'^WWW(?=.*\\.com)', i):\n",
    "      website = i\n",
    "    elif re.match(r'^\\w+\\.com$', i):\n",
    "      website = ('WWW.'+i)\n",
    "  if len(website) ==0:\n",
    "    website = \"Not Available\"\n",
    "  else:\n",
    "    return website"
   ]
  },
  {
   "cell_type": "code",
   "execution_count": 17,
   "id": "a4e0b12f",
   "metadata": {},
   "outputs": [],
   "source": [
    "def name(img):\n",
    "  for i in img:\n",
    "    return i"
   ]
  },
  {
   "cell_type": "code",
   "execution_count": 18,
   "id": "b4ffda1c",
   "metadata": {},
   "outputs": [],
   "source": [
    "def designation(img):\n",
    "  for i in img:\n",
    "    return img[1]"
   ]
  },
  {
   "cell_type": "code",
   "execution_count": 19,
   "id": "64a65cf6",
   "metadata": {},
   "outputs": [],
   "source": [
    "def address(img):\n",
    "  for i in img:\n",
    "    if(re.findall(r'^123+\\s[\\w\\.-]+',i)):\n",
    "      return i[0:10]"
   ]
  },
  {
   "cell_type": "code",
   "execution_count": 20,
   "id": "847eacf5",
   "metadata": {},
   "outputs": [],
   "source": [
    "def domain(img):\n",
    "  for i in img[-1]:\n",
    "    if len(img[-1])> 5:\n",
    "      return img[-1]\n",
    "    else:\n",
    "      return img[-2]"
   ]
  },
  {
   "cell_type": "code",
   "execution_count": 21,
   "id": "a6120965",
   "metadata": {},
   "outputs": [],
   "source": [
    "def district(img):\n",
    "  for i in img:\n",
    "    if(re.search(r'^123+\\s',i)):\n",
    "      if len(i[10:20])> 6:\n",
    "        return i[11:20].replace(\",\",\"\")\n",
    "    elif (re.search(r'\\bErode\\b',i)):\n",
    "      return i.replace(\";\",\"\")\n",
    "  return \"Not Available\""
   ]
  },
  {
   "cell_type": "code",
   "execution_count": 22,
   "id": "26e59b32",
   "metadata": {},
   "outputs": [],
   "source": [
    "def pincode(img):\n",
    "    pincode = None\n",
    "    for i in img:\n",
    "        pincode_match = re.search(r'(\\d{6})|\\b(\\d{3}\\s*\\d{3})\\b', i)\n",
    "        if pincode_match:\n",
    "            pincode = pincode_match.group(0).replace(' ', '')\n",
    "    return pincode"
   ]
  },
  {
   "cell_type": "code",
   "execution_count": 23,
   "id": "ec02fa53",
   "metadata": {},
   "outputs": [],
   "source": [
    "def state(img): \n",
    "    for i in img:\n",
    "        match = re.search(r'TamilNadu', i)\n",
    "        if match:\n",
    "            return match.group()\n",
    "    return \"Not found\""
   ]
  },
  {
   "cell_type": "code",
   "execution_count": 24,
   "id": "692349b1",
   "metadata": {},
   "outputs": [],
   "source": [
    "#create a dictionary with all the data\n",
    "def data(img):\n",
    "  data = {}\n",
    "  data['Name'] = name(img)\n",
    "  data['Designation'] = designation(img)\n",
    "  data['Domain'] = domain(img)\n",
    "  data['Contact'] = phno(img)\n",
    "  data['E-mail'] = email(img)\n",
    "  data['Website'] = website(img)\n",
    "  data['Address'] = address(img)\n",
    "  data['District'] = district(img)\n",
    "  data['State'] = state(img)\n",
    "  data['Pincode'] = pincode(img)\n",
    "  return data"
   ]
  },
  {
   "cell_type": "code",
   "execution_count": 26,
   "id": "820b8f90",
   "metadata": {},
   "outputs": [],
   "source": [
    "import pandas as pd"
   ]
  },
  {
   "cell_type": "code",
   "execution_count": 27,
   "id": "846543d7",
   "metadata": {},
   "outputs": [],
   "source": [
    "df_1 = pd.DataFrame(data(result1))\n",
    "\n",
    "df_2 = pd.DataFrame(data(result2))\n",
    "df_3 = pd.DataFrame(data(result3))\n",
    "df_4 = pd.DataFrame(data(result4))\n",
    "df_5 = pd.DataFrame(data(result5))"
   ]
  },
  {
   "cell_type": "code",
   "execution_count": 32,
   "id": "a8356168",
   "metadata": {},
   "outputs": [],
   "source": [
    "df = pd.concat([df_1,df_2,df_3,df_4,df_5])"
   ]
  },
  {
   "cell_type": "code",
   "execution_count": 36,
   "id": "e821c3c0",
   "metadata": {},
   "outputs": [
    {
     "data": {
      "text/html": [
       "<div>\n",
       "<style scoped>\n",
       "    .dataframe tbody tr th:only-of-type {\n",
       "        vertical-align: middle;\n",
       "    }\n",
       "\n",
       "    .dataframe tbody tr th {\n",
       "        vertical-align: top;\n",
       "    }\n",
       "\n",
       "    .dataframe thead th {\n",
       "        text-align: right;\n",
       "    }\n",
       "</style>\n",
       "<table border=\"1\" class=\"dataframe\">\n",
       "  <thead>\n",
       "    <tr style=\"text-align: right;\">\n",
       "      <th></th>\n",
       "      <th>Name</th>\n",
       "      <th>Designation</th>\n",
       "      <th>Domain</th>\n",
       "      <th>Contact</th>\n",
       "      <th>E-mail</th>\n",
       "      <th>Website</th>\n",
       "      <th>Address</th>\n",
       "      <th>District</th>\n",
       "      <th>State</th>\n",
       "      <th>Pincode</th>\n",
       "    </tr>\n",
       "  </thead>\n",
       "  <tbody>\n",
       "    <tr>\n",
       "      <th>0</th>\n",
       "      <td>Selva</td>\n",
       "      <td>DATA MANAGER</td>\n",
       "      <td>digitals</td>\n",
       "      <td>+123-456-7890</td>\n",
       "      <td>hello@XYZI.com</td>\n",
       "      <td>WWW.XYZI.com</td>\n",
       "      <td>123 ABC St</td>\n",
       "      <td>Chennai</td>\n",
       "      <td>TamilNadu</td>\n",
       "      <td>600113</td>\n",
       "    </tr>\n",
       "    <tr>\n",
       "      <th>1</th>\n",
       "      <td>Selva</td>\n",
       "      <td>DATA MANAGER</td>\n",
       "      <td>digitals</td>\n",
       "      <td>+123-456-7891</td>\n",
       "      <td>hello@XYZI.com</td>\n",
       "      <td>WWW.XYZI.com</td>\n",
       "      <td>123 ABC St</td>\n",
       "      <td>Chennai</td>\n",
       "      <td>TamilNadu</td>\n",
       "      <td>600113</td>\n",
       "    </tr>\n",
       "    <tr>\n",
       "      <th>2</th>\n",
       "      <td>Amit Kumar</td>\n",
       "      <td>CEO &amp; FOUNDER</td>\n",
       "      <td>INSURANCE</td>\n",
       "      <td>123-456-7569</td>\n",
       "      <td>hello@global.com</td>\n",
       "      <td>WWW.global.com</td>\n",
       "      <td>123 global</td>\n",
       "      <td>Erode</td>\n",
       "      <td>TamilNadu</td>\n",
       "      <td>600115</td>\n",
       "    </tr>\n",
       "    <tr>\n",
       "      <th>3</th>\n",
       "      <td>KARTHICK</td>\n",
       "      <td>General Manager</td>\n",
       "      <td>AIRLINES</td>\n",
       "      <td>+123-456-7890</td>\n",
       "      <td>hello@Borcelle.com</td>\n",
       "      <td>WWW. Borcelle.com</td>\n",
       "      <td>123 ABC St</td>\n",
       "      <td>Salem</td>\n",
       "      <td>TamilNadu</td>\n",
       "      <td>600451</td>\n",
       "    </tr>\n",
       "    <tr>\n",
       "      <th>4</th>\n",
       "      <td>REVANTH</td>\n",
       "      <td>Marketing Executive</td>\n",
       "      <td>Restaurant</td>\n",
       "      <td>+91-456-1234</td>\n",
       "      <td>hello@CHRISTMAS.com</td>\n",
       "      <td>WWW.CHRISTMAS.com</td>\n",
       "      <td>123 ABC St</td>\n",
       "      <td>HYDRABAD</td>\n",
       "      <td>TamilNadu</td>\n",
       "      <td>600001</td>\n",
       "    </tr>\n",
       "    <tr>\n",
       "      <th>5</th>\n",
       "      <td>SANTHOSH</td>\n",
       "      <td>Technical Manager</td>\n",
       "      <td>Sun Electricals</td>\n",
       "      <td>+123-456-1234</td>\n",
       "      <td>hello@Sun.com</td>\n",
       "      <td>WWWSun.com</td>\n",
       "      <td>123 ABC St</td>\n",
       "      <td>Tirupur</td>\n",
       "      <td>TamilNadu</td>\n",
       "      <td>641603</td>\n",
       "    </tr>\n",
       "  </tbody>\n",
       "</table>\n",
       "</div>"
      ],
      "text/plain": [
       "         Name          Designation           Domain        Contact  \\\n",
       "0       Selva         DATA MANAGER         digitals  +123-456-7890   \n",
       "1       Selva         DATA MANAGER         digitals  +123-456-7891   \n",
       "2  Amit Kumar        CEO & FOUNDER        INSURANCE   123-456-7569   \n",
       "3    KARTHICK      General Manager         AIRLINES  +123-456-7890   \n",
       "4     REVANTH  Marketing Executive       Restaurant   +91-456-1234   \n",
       "5    SANTHOSH    Technical Manager  Sun Electricals  +123-456-1234   \n",
       "\n",
       "                E-mail            Website     Address   District      State  \\\n",
       "0       hello@XYZI.com       WWW.XYZI.com  123 ABC St    Chennai  TamilNadu   \n",
       "1       hello@XYZI.com       WWW.XYZI.com  123 ABC St    Chennai  TamilNadu   \n",
       "2     hello@global.com     WWW.global.com  123 global      Erode  TamilNadu   \n",
       "3   hello@Borcelle.com  WWW. Borcelle.com  123 ABC St      Salem  TamilNadu   \n",
       "4  hello@CHRISTMAS.com  WWW.CHRISTMAS.com  123 ABC St   HYDRABAD  TamilNadu   \n",
       "5        hello@Sun.com         WWWSun.com  123 ABC St    Tirupur  TamilNadu   \n",
       "\n",
       "   Pincode  \n",
       "0   600113  \n",
       "1   600113  \n",
       "2   600115  \n",
       "3   600451  \n",
       "4   600001  \n",
       "5   641603  "
      ]
     },
     "execution_count": 36,
     "metadata": {},
     "output_type": "execute_result"
    }
   ],
   "source": [
    "df.to_csv('Extracted_data.csv',index=False)\n",
    "\n",
    "extract_data=pd.read_csv('Extracted_data.csv')\n",
    "extract_data"
   ]
  },
  {
   "cell_type": "code",
   "execution_count": 37,
   "id": "f8b2255b",
   "metadata": {},
   "outputs": [
    {
     "data": {
      "text/html": [
       "<div>\n",
       "<style scoped>\n",
       "    .dataframe tbody tr th:only-of-type {\n",
       "        vertical-align: middle;\n",
       "    }\n",
       "\n",
       "    .dataframe tbody tr th {\n",
       "        vertical-align: top;\n",
       "    }\n",
       "\n",
       "    .dataframe thead th {\n",
       "        text-align: right;\n",
       "    }\n",
       "</style>\n",
       "<table border=\"1\" class=\"dataframe\">\n",
       "  <thead>\n",
       "    <tr style=\"text-align: right;\">\n",
       "      <th></th>\n",
       "      <th>Name</th>\n",
       "      <th>Designation</th>\n",
       "      <th>Domain</th>\n",
       "      <th>Contact</th>\n",
       "      <th>E-mail</th>\n",
       "      <th>Website</th>\n",
       "      <th>Address</th>\n",
       "      <th>District</th>\n",
       "      <th>State</th>\n",
       "      <th>Pincode</th>\n",
       "    </tr>\n",
       "  </thead>\n",
       "  <tbody>\n",
       "    <tr>\n",
       "      <th>1</th>\n",
       "      <td>Selva</td>\n",
       "      <td>DATA MANAGER</td>\n",
       "      <td>digitals</td>\n",
       "      <td>+123-456-7891</td>\n",
       "      <td>hello@XYZI.com</td>\n",
       "      <td>WWW.XYZI.com</td>\n",
       "      <td>123 ABC St</td>\n",
       "      <td>Chennai</td>\n",
       "      <td>TamilNadu</td>\n",
       "      <td>600113</td>\n",
       "    </tr>\n",
       "    <tr>\n",
       "      <th>2</th>\n",
       "      <td>Amit Kumar</td>\n",
       "      <td>CEO &amp; FOUNDER</td>\n",
       "      <td>INSURANCE</td>\n",
       "      <td>123-456-7569</td>\n",
       "      <td>hello@global.com</td>\n",
       "      <td>WWW.global.com</td>\n",
       "      <td>123 global</td>\n",
       "      <td>Erode</td>\n",
       "      <td>TamilNadu</td>\n",
       "      <td>600115</td>\n",
       "    </tr>\n",
       "    <tr>\n",
       "      <th>3</th>\n",
       "      <td>KARTHICK</td>\n",
       "      <td>General Manager</td>\n",
       "      <td>AIRLINES</td>\n",
       "      <td>+123-456-7890</td>\n",
       "      <td>hello@Borcelle.com</td>\n",
       "      <td>WWW. Borcelle.com</td>\n",
       "      <td>123 ABC St</td>\n",
       "      <td>Salem</td>\n",
       "      <td>TamilNadu</td>\n",
       "      <td>600451</td>\n",
       "    </tr>\n",
       "    <tr>\n",
       "      <th>4</th>\n",
       "      <td>REVANTH</td>\n",
       "      <td>Marketing Executive</td>\n",
       "      <td>Restaurant</td>\n",
       "      <td>+91-456-1234</td>\n",
       "      <td>hello@CHRISTMAS.com</td>\n",
       "      <td>WWW.CHRISTMAS.com</td>\n",
       "      <td>123 ABC St</td>\n",
       "      <td>HYDRABAD</td>\n",
       "      <td>TamilNadu</td>\n",
       "      <td>600001</td>\n",
       "    </tr>\n",
       "    <tr>\n",
       "      <th>5</th>\n",
       "      <td>SANTHOSH</td>\n",
       "      <td>Technical Manager</td>\n",
       "      <td>Sun Electricals</td>\n",
       "      <td>+123-456-1234</td>\n",
       "      <td>hello@Sun.com</td>\n",
       "      <td>WWWSun.com</td>\n",
       "      <td>123 ABC St</td>\n",
       "      <td>Tirupur</td>\n",
       "      <td>TamilNadu</td>\n",
       "      <td>641603</td>\n",
       "    </tr>\n",
       "  </tbody>\n",
       "</table>\n",
       "</div>"
      ],
      "text/plain": [
       "         Name          Designation           Domain        Contact  \\\n",
       "1       Selva         DATA MANAGER         digitals  +123-456-7891   \n",
       "2  Amit Kumar        CEO & FOUNDER        INSURANCE   123-456-7569   \n",
       "3    KARTHICK      General Manager         AIRLINES  +123-456-7890   \n",
       "4     REVANTH  Marketing Executive       Restaurant   +91-456-1234   \n",
       "5    SANTHOSH    Technical Manager  Sun Electricals  +123-456-1234   \n",
       "\n",
       "                E-mail            Website     Address   District      State  \\\n",
       "1       hello@XYZI.com       WWW.XYZI.com  123 ABC St    Chennai  TamilNadu   \n",
       "2     hello@global.com     WWW.global.com  123 global      Erode  TamilNadu   \n",
       "3   hello@Borcelle.com  WWW. Borcelle.com  123 ABC St      Salem  TamilNadu   \n",
       "4  hello@CHRISTMAS.com  WWW.CHRISTMAS.com  123 ABC St   HYDRABAD  TamilNadu   \n",
       "5        hello@Sun.com         WWWSun.com  123 ABC St    Tirupur  TamilNadu   \n",
       "\n",
       "   Pincode  \n",
       "1   600113  \n",
       "2   600115  \n",
       "3   600451  \n",
       "4   600001  \n",
       "5   641603  "
      ]
     },
     "execution_count": 37,
     "metadata": {},
     "output_type": "execute_result"
    }
   ],
   "source": [
    "extract_data[1:6]"
   ]
  },
  {
   "cell_type": "code",
   "execution_count": 40,
   "id": "37f01d9c",
   "metadata": {},
   "outputs": [
    {
     "name": "stdout",
     "output_type": "stream",
     "text": [
      "Collecting nb2xls\n",
      "  Downloading nb2xls-0.1.6.tar.gz (10 kB)\n",
      "  Preparing metadata (setup.py): started\n",
      "  Preparing metadata (setup.py): finished with status 'done'\n",
      "Requirement already satisfied: nbconvert>=5.0.0 in c:\\users\\yogamariappan\\appdata\\local\\packages\\pythonsoftwarefoundation.python.3.10_qbz5n2kfra8p0\\localcache\\local-packages\\python310\\site-packages (from nb2xls) (7.2.9)\n",
      "Collecting xlsxwriter>=1.1.0 (from nb2xls)\n",
      "  Downloading XlsxWriter-3.1.2-py3-none-any.whl (153 kB)\n",
      "                                              0.0/153.0 kB ? eta -:--:--\n",
      "                                              0.0/153.0 kB ? eta -:--:--\n",
      "     --                                       10.2/153.0 kB ? eta -:--:--\n",
      "     -------                               30.7/153.0 kB 435.7 kB/s eta 0:00:01\n",
      "     ---------                             41.0/153.0 kB 326.8 kB/s eta 0:00:01\n",
      "     -------------------                   81.9/153.0 kB 459.5 kB/s eta 0:00:01\n",
      "     --------------------------           112.6/153.0 kB 467.6 kB/s eta 0:00:01\n",
      "     ---------------------------------    143.4/153.0 kB 500.5 kB/s eta 0:00:01\n",
      "     ---------------------------------    143.4/153.0 kB 500.5 kB/s eta 0:00:01\n",
      "     ---------------------------------    143.4/153.0 kB 500.5 kB/s eta 0:00:01\n",
      "     ------------------------------------ 153.0/153.0 kB 365.2 kB/s eta 0:00:00\n",
      "Requirement already satisfied: beautifulsoup4>=4.6.0 in c:\\users\\yogamariappan\\appdata\\local\\packages\\pythonsoftwarefoundation.python.3.10_qbz5n2kfra8p0\\localcache\\local-packages\\python310\\site-packages (from nb2xls) (4.11.2)\n",
      "Collecting pypng>=0.0.18 (from nb2xls)\n",
      "  Downloading pypng-0.20220715.0-py3-none-any.whl (58 kB)\n",
      "                                              0.0/58.1 kB ? eta -:--:--\n",
      "     ---------------------                    30.7/58.1 kB 1.4 MB/s eta 0:00:01\n",
      "     ---------------------------------      51.2/58.1 kB 660.6 kB/s eta 0:00:01\n",
      "     ---------------------------------      51.2/58.1 kB 660.6 kB/s eta 0:00:01\n",
      "     -------------------------------------- 58.1/58.1 kB 306.5 kB/s eta 0:00:00\n",
      "Requirement already satisfied: mistune>=0.8 in c:\\users\\yogamariappan\\appdata\\local\\packages\\pythonsoftwarefoundation.python.3.10_qbz5n2kfra8p0\\localcache\\local-packages\\python310\\site-packages (from nb2xls) (2.0.5)\n",
      "Requirement already satisfied: pandas in c:\\users\\yogamariappan\\appdata\\local\\packages\\pythonsoftwarefoundation.python.3.10_qbz5n2kfra8p0\\localcache\\local-packages\\python310\\site-packages (from nb2xls) (1.5.3)\n",
      "Requirement already satisfied: numpy in c:\\users\\yogamariappan\\appdata\\local\\packages\\pythonsoftwarefoundation.python.3.10_qbz5n2kfra8p0\\localcache\\local-packages\\python310\\site-packages (from nb2xls) (1.24.2)\n",
      "Requirement already satisfied: soupsieve>1.2 in c:\\users\\yogamariappan\\appdata\\local\\packages\\pythonsoftwarefoundation.python.3.10_qbz5n2kfra8p0\\localcache\\local-packages\\python310\\site-packages (from beautifulsoup4>=4.6.0->nb2xls) (2.4)\n",
      "Requirement already satisfied: bleach in c:\\users\\yogamariappan\\appdata\\local\\packages\\pythonsoftwarefoundation.python.3.10_qbz5n2kfra8p0\\localcache\\local-packages\\python310\\site-packages (from nbconvert>=5.0.0->nb2xls) (6.0.0)\n",
      "Requirement already satisfied: defusedxml in c:\\users\\yogamariappan\\appdata\\local\\packages\\pythonsoftwarefoundation.python.3.10_qbz5n2kfra8p0\\localcache\\local-packages\\python310\\site-packages (from nbconvert>=5.0.0->nb2xls) (0.7.1)\n",
      "Requirement already satisfied: jinja2>=3.0 in c:\\users\\yogamariappan\\appdata\\local\\packages\\pythonsoftwarefoundation.python.3.10_qbz5n2kfra8p0\\localcache\\local-packages\\python310\\site-packages (from nbconvert>=5.0.0->nb2xls) (3.1.2)\n",
      "Requirement already satisfied: jupyter-core>=4.7 in c:\\users\\yogamariappan\\appdata\\local\\packages\\pythonsoftwarefoundation.python.3.10_qbz5n2kfra8p0\\localcache\\local-packages\\python310\\site-packages (from nbconvert>=5.0.0->nb2xls) (5.2.0)\n",
      "Requirement already satisfied: jupyterlab-pygments in c:\\users\\yogamariappan\\appdata\\local\\packages\\pythonsoftwarefoundation.python.3.10_qbz5n2kfra8p0\\localcache\\local-packages\\python310\\site-packages (from nbconvert>=5.0.0->nb2xls) (0.2.2)\n",
      "Requirement already satisfied: markupsafe>=2.0 in c:\\users\\yogamariappan\\appdata\\local\\packages\\pythonsoftwarefoundation.python.3.10_qbz5n2kfra8p0\\localcache\\local-packages\\python310\\site-packages (from nbconvert>=5.0.0->nb2xls) (2.1.2)\n",
      "Requirement already satisfied: nbclient>=0.5.0 in c:\\users\\yogamariappan\\appdata\\local\\packages\\pythonsoftwarefoundation.python.3.10_qbz5n2kfra8p0\\localcache\\local-packages\\python310\\site-packages (from nbconvert>=5.0.0->nb2xls) (0.7.2)\n",
      "Requirement already satisfied: nbformat>=5.1 in c:\\users\\yogamariappan\\appdata\\local\\packages\\pythonsoftwarefoundation.python.3.10_qbz5n2kfra8p0\\localcache\\local-packages\\python310\\site-packages (from nbconvert>=5.0.0->nb2xls) (5.7.3)\n",
      "Requirement already satisfied: packaging in c:\\users\\yogamariappan\\appdata\\local\\packages\\pythonsoftwarefoundation.python.3.10_qbz5n2kfra8p0\\localcache\\local-packages\\python310\\site-packages (from nbconvert>=5.0.0->nb2xls) (23.0)\n",
      "Requirement already satisfied: pandocfilters>=1.4.1 in c:\\users\\yogamariappan\\appdata\\local\\packages\\pythonsoftwarefoundation.python.3.10_qbz5n2kfra8p0\\localcache\\local-packages\\python310\\site-packages (from nbconvert>=5.0.0->nb2xls) (1.5.0)\n",
      "Requirement already satisfied: pygments>=2.4.1 in c:\\users\\yogamariappan\\appdata\\local\\packages\\pythonsoftwarefoundation.python.3.10_qbz5n2kfra8p0\\localcache\\local-packages\\python310\\site-packages (from nbconvert>=5.0.0->nb2xls) (2.14.0)\n",
      "Requirement already satisfied: tinycss2 in c:\\users\\yogamariappan\\appdata\\local\\packages\\pythonsoftwarefoundation.python.3.10_qbz5n2kfra8p0\\localcache\\local-packages\\python310\\site-packages (from nbconvert>=5.0.0->nb2xls) (1.2.1)\n",
      "Requirement already satisfied: traitlets>=5.0 in c:\\users\\yogamariappan\\appdata\\local\\packages\\pythonsoftwarefoundation.python.3.10_qbz5n2kfra8p0\\localcache\\local-packages\\python310\\site-packages (from nbconvert>=5.0.0->nb2xls) (5.9.0)\n",
      "Requirement already satisfied: python-dateutil>=2.8.1 in c:\\users\\yogamariappan\\appdata\\local\\packages\\pythonsoftwarefoundation.python.3.10_qbz5n2kfra8p0\\localcache\\local-packages\\python310\\site-packages (from pandas->nb2xls) (2.8.2)\n",
      "Requirement already satisfied: pytz>=2020.1 in c:\\users\\yogamariappan\\appdata\\local\\packages\\pythonsoftwarefoundation.python.3.10_qbz5n2kfra8p0\\localcache\\local-packages\\python310\\site-packages (from pandas->nb2xls) (2022.7.1)\n",
      "Requirement already satisfied: platformdirs>=2.5 in c:\\users\\yogamariappan\\appdata\\local\\packages\\pythonsoftwarefoundation.python.3.10_qbz5n2kfra8p0\\localcache\\local-packages\\python310\\site-packages (from jupyter-core>=4.7->nbconvert>=5.0.0->nb2xls) (3.0.0)\n",
      "Requirement already satisfied: pywin32>=1.0 in c:\\users\\yogamariappan\\appdata\\local\\packages\\pythonsoftwarefoundation.python.3.10_qbz5n2kfra8p0\\localcache\\local-packages\\python310\\site-packages (from jupyter-core>=4.7->nbconvert>=5.0.0->nb2xls) (305)\n",
      "Requirement already satisfied: jupyter-client>=6.1.12 in c:\\users\\yogamariappan\\appdata\\local\\packages\\pythonsoftwarefoundation.python.3.10_qbz5n2kfra8p0\\localcache\\local-packages\\python310\\site-packages (from nbclient>=0.5.0->nbconvert>=5.0.0->nb2xls) (8.0.3)\n",
      "Requirement already satisfied: fastjsonschema in c:\\users\\yogamariappan\\appdata\\local\\packages\\pythonsoftwarefoundation.python.3.10_qbz5n2kfra8p0\\localcache\\local-packages\\python310\\site-packages (from nbformat>=5.1->nbconvert>=5.0.0->nb2xls) (2.16.2)\n",
      "Requirement already satisfied: jsonschema>=2.6 in c:\\users\\yogamariappan\\appdata\\local\\packages\\pythonsoftwarefoundation.python.3.10_qbz5n2kfra8p0\\localcache\\local-packages\\python310\\site-packages (from nbformat>=5.1->nbconvert>=5.0.0->nb2xls) (4.17.3)\n",
      "Requirement already satisfied: six>=1.5 in c:\\users\\yogamariappan\\appdata\\local\\packages\\pythonsoftwarefoundation.python.3.10_qbz5n2kfra8p0\\localcache\\local-packages\\python310\\site-packages (from python-dateutil>=2.8.1->pandas->nb2xls) (1.16.0)\n",
      "Requirement already satisfied: webencodings in c:\\users\\yogamariappan\\appdata\\local\\packages\\pythonsoftwarefoundation.python.3.10_qbz5n2kfra8p0\\localcache\\local-packages\\python310\\site-packages (from bleach->nbconvert>=5.0.0->nb2xls) (0.5.1)\n",
      "Requirement already satisfied: attrs>=17.4.0 in c:\\users\\yogamariappan\\appdata\\local\\packages\\pythonsoftwarefoundation.python.3.10_qbz5n2kfra8p0\\localcache\\local-packages\\python310\\site-packages (from jsonschema>=2.6->nbformat>=5.1->nbconvert>=5.0.0->nb2xls) (22.2.0)\n",
      "Requirement already satisfied: pyrsistent!=0.17.0,!=0.17.1,!=0.17.2,>=0.14.0 in c:\\users\\yogamariappan\\appdata\\local\\packages\\pythonsoftwarefoundation.python.3.10_qbz5n2kfra8p0\\localcache\\local-packages\\python310\\site-packages (from jsonschema>=2.6->nbformat>=5.1->nbconvert>=5.0.0->nb2xls) (0.19.3)\n",
      "Requirement already satisfied: pyzmq>=23.0 in c:\\users\\yogamariappan\\appdata\\local\\packages\\pythonsoftwarefoundation.python.3.10_qbz5n2kfra8p0\\localcache\\local-packages\\python310\\site-packages (from jupyter-client>=6.1.12->nbclient>=0.5.0->nbconvert>=5.0.0->nb2xls) (25.0.0)\n",
      "Requirement already satisfied: tornado>=6.2 in c:\\users\\yogamariappan\\appdata\\local\\packages\\pythonsoftwarefoundation.python.3.10_qbz5n2kfra8p0\\localcache\\local-packages\\python310\\site-packages (from jupyter-client>=6.1.12->nbclient>=0.5.0->nbconvert>=5.0.0->nb2xls) (6.2)\n",
      "Building wheels for collected packages: nb2xls\n",
      "  Building wheel for nb2xls (setup.py): started\n",
      "  Building wheel for nb2xls (setup.py): finished with status 'done'\n",
      "  Created wheel for nb2xls: filename=nb2xls-0.1.6-py3-none-any.whl size=9894 sha256=e5f0014860ab0ebfdec64602e7283fb5a135ac37abcb02199b371db7499b4234\n",
      "  Stored in directory: c:\\users\\yogamariappan\\appdata\\local\\pip\\cache\\wheels\\95\\24\\3b\\9756a25d4f0ddc8b731658465e6a145158bd6efc2f2895d45b\n",
      "Successfully built nb2xls\n",
      "Installing collected packages: pypng, xlsxwriter, nb2xls\n",
      "Successfully installed nb2xls-0.1.6 pypng-0.20220715.0 xlsxwriter-3.1.2\n",
      "Note: you may need to restart the kernel to use updated packages.\n"
     ]
    },
    {
     "name": "stderr",
     "output_type": "stream",
     "text": [
      "\n",
      "[notice] A new release of pip is available: 23.1.2 -> 23.2.1\n",
      "[notice] To update, run: C:\\Users\\yogamariappan\\AppData\\Local\\Microsoft\\WindowsApps\\PythonSoftwareFoundation.Python.3.10_qbz5n2kfra8p0\\python.exe -m pip install --upgrade pip\n"
     ]
    }
   ],
   "source": [
    "pip install nb2xls"
   ]
  },
  {
   "cell_type": "code",
   "execution_count": null,
   "id": "59d2ae72",
   "metadata": {},
   "outputs": [],
   "source": []
  }
 ],
 "metadata": {
  "kernelspec": {
   "display_name": "Python 3 (ipykernel)",
   "language": "python",
   "name": "python3"
  },
  "language_info": {
   "codemirror_mode": {
    "name": "ipython",
    "version": 3
   },
   "file_extension": ".py",
   "mimetype": "text/x-python",
   "name": "python",
   "nbconvert_exporter": "python",
   "pygments_lexer": "ipython3",
   "version": "3.10.11"
  }
 },
 "nbformat": 4,
 "nbformat_minor": 5
}
